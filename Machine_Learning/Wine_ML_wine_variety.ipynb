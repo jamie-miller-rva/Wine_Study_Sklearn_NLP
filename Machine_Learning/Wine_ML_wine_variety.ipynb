{
 "cells": [
  {
   "cell_type": "markdown",
   "metadata": {},
   "source": [
    "#### Sklearn: Working with Text Data\n",
    "https://scikit-learn.org/stable/tutorial/text_analytics/working_with_text_data.html"
   ]
  },
  {
   "cell_type": "code",
   "execution_count": 1,
   "metadata": {},
   "outputs": [],
   "source": [
    "# Import dependencies (packages and modules)\n",
    "import pandas as pd\n",
    "import numpy as np\n",
    "import matplotlib.pyplot as plt  \n",
    "\n",
    "from sklearn.model_selection import train_test_split\n",
    "from sklearn.feature_extraction.text import TfidfTransformer\n",
    "from sklearn.feature_extraction.text import CountVectorizer\n",
    "from sklearn.naive_bayes import MultinomialNB\n",
    "from sklearn.pipeline import Pipeline\n",
    "from sklearn.linear_model import SGDClassifier\n",
    "from sklearn import metrics\n",
    "from sklearn.metrics import plot_confusion_matrix\n",
    "from sklearn.model_selection import GridSearchCV"
   ]
  },
  {
   "cell_type": "markdown",
   "metadata": {},
   "source": [
    "#### Load the data set into jupyter notebook\n",
    "The endstate is a dataframe containing a label column and text column"
   ]
  },
  {
   "cell_type": "code",
   "execution_count": 2,
   "metadata": {},
   "outputs": [
    {
     "name": "stdout",
     "output_type": "stream",
     "text": [
      "<class 'pandas.core.frame.DataFrame'>\n",
      "RangeIndex: 131515 entries, 0 to 131514\n",
      "Data columns (total 11 columns):\n",
      " #   Column              Non-Null Count   Dtype  \n",
      "---  ------              --------------   -----  \n",
      " 0   country             131515 non-null  object \n",
      " 1   winery              131515 non-null  object \n",
      " 2   variety             131515 non-null  object \n",
      " 3   province            131515 non-null  object \n",
      " 4   region_1            131515 non-null  object \n",
      " 5   name                131515 non-null  object \n",
      " 6   points              131515 non-null  int64  \n",
      " 7   price               131515 non-null  float64\n",
      " 8   points_earned       131515 non-null  int64  \n",
      " 9   value_points_per_$  131515 non-null  float64\n",
      " 10  description         131515 non-null  object \n",
      "dtypes: float64(2), int64(2), object(7)\n",
      "memory usage: 11.0+ MB\n"
     ]
    }
   ],
   "source": [
    "# get csv file from AWS S3 bucket\n",
    "url =\"https://wine-demo-bucket.s3.amazonaws.com/wine_variety.csv\"\n",
    "\n",
    "df = pd.read_csv(url)\n",
    "df.info()"
   ]
  },
  {
   "cell_type": "code",
   "execution_count": 3,
   "metadata": {},
   "outputs": [
    {
     "name": "stdout",
     "output_type": "stream",
     "text": [
      "<class 'pandas.core.frame.DataFrame'>\n",
      "RangeIndex: 131515 entries, 0 to 131514\n",
      "Data columns (total 2 columns):\n",
      " #   Column       Non-Null Count   Dtype \n",
      "---  ------       --------------   ----- \n",
      " 0   variety      131515 non-null  object\n",
      " 1   description  131515 non-null  object\n",
      "dtypes: object(2)\n",
      "memory usage: 2.0+ MB\n"
     ]
    }
   ],
   "source": [
    "# reduce the dataframe to just wine_type and description\n",
    "# this is going to be our 'label' and 'text' columns (in the cell below)\n",
    "column_names = ['variety', 'description']\n",
    "df = df.reindex(columns=column_names)\n",
    "\n",
    "df.info()"
   ]
  },
  {
   "cell_type": "code",
   "execution_count": 4,
   "metadata": {},
   "outputs": [
    {
     "name": "stdout",
     "output_type": "stream",
     "text": [
      "<class 'pandas.core.frame.DataFrame'>\n",
      "RangeIndex: 131515 entries, 0 to 131514\n",
      "Data columns (total 2 columns):\n",
      " #   Column  Non-Null Count   Dtype \n",
      "---  ------  --------------   ----- \n",
      " 0   label   131515 non-null  object\n",
      " 1   text    131515 non-null  object\n",
      "dtypes: object(2)\n",
      "memory usage: 2.0+ MB\n"
     ]
    }
   ],
   "source": [
    "# rename wine type to 'label' and description to 'text'\n",
    "df.rename(columns={\"variety\": 'label', \"description\": 'text'}, inplace=True)\n",
    "data = df\n",
    "data.info()"
   ]
  },
  {
   "cell_type": "code",
   "execution_count": 5,
   "metadata": {},
   "outputs": [
    {
     "data": {
      "text/plain": [
       "Chardonnay                 13351\n",
       "Pinot Noir                 13246\n",
       "Cabernet Sauvignon         11891\n",
       "Red Blend                   8787\n",
       "Sauvignon Blanc             5970\n",
       "                           ...  \n",
       "Malvoisie                      1\n",
       "Cabernet Franc-Malbec          1\n",
       "Vidadillo                      1\n",
       "Chardonnay-Pinot Gris          1\n",
       "Chardonnay-Pinot Grigio        1\n",
       "Name: label, Length: 543, dtype: int64"
      ]
     },
     "execution_count": 5,
     "metadata": {},
     "output_type": "execute_result"
    }
   ],
   "source": [
    "# how many of each wine_type are in our wine_description dataframe?\n",
    "data['label'].value_counts()"
   ]
  },
  {
   "cell_type": "code",
   "execution_count": 6,
   "metadata": {},
   "outputs": [
    {
     "data": {
      "text/plain": [
       "0    Ripe aromas of fig, blackberry and cassis are ...\n",
       "1    Mac Watson honors the memory of a wine once ma...\n",
       "2    This spent 20 months in 30% new French oak, an...\n",
       "3    This is the top wine from La Bégude, named aft...\n",
       "4    Deep, dense and pure from the opening bell, th...\n",
       "Name: text, dtype: object"
      ]
     },
     "execution_count": 6,
     "metadata": {},
     "output_type": "execute_result"
    }
   ],
   "source": [
    "data['text'].head()"
   ]
  },
  {
   "cell_type": "markdown",
   "metadata": {},
   "source": [
    "#### Devide the data into train and test using sklearn train_test_split"
   ]
  },
  {
   "cell_type": "code",
   "execution_count": 7,
   "metadata": {},
   "outputs": [],
   "source": [
    "X = data['text'] # the description\n",
    "y = data['label'] # the wine type\n",
    "\n",
    "X_train, X_test, y_train, y_test = train_test_split(X, y, random_state=42)"
   ]
  },
  {
   "cell_type": "markdown",
   "metadata": {},
   "source": [
    "#### Extract features by tokenizing text using the bag of words technique\n"
   ]
  },
  {
   "cell_type": "code",
   "execution_count": 8,
   "metadata": {},
   "outputs": [
    {
     "data": {
      "text/plain": [
       "CountVectorizer()"
      ]
     },
     "execution_count": 8,
     "metadata": {},
     "output_type": "execute_result"
    }
   ],
   "source": [
    "# we will tokenize and filter stop words using CountVectorizer\n",
    "# this will be used to build a dictionary of features and transforms documents to feature vectors:\n",
    "count_vect = CountVectorizer()\n",
    "count_vect"
   ]
  },
  {
   "cell_type": "code",
   "execution_count": 9,
   "metadata": {},
   "outputs": [
    {
     "data": {
      "text/plain": [
       "(98636, 26862)"
      ]
     },
     "execution_count": 9,
     "metadata": {},
     "output_type": "execute_result"
    }
   ],
   "source": [
    "# creating bag of words for training data\n",
    "# Here by doing ‘count_vect.fit_transform()’\n",
    "# we are learning the vocabulary dictionary and it returns a Document-Term matrix. [n_samples, n_features].\n",
    "X_train_counts = count_vect.fit_transform(X_train)\n",
    "X_train_counts.shape"
   ]
  },
  {
   "cell_type": "markdown",
   "metadata": {},
   "source": [
    "#### CountVectorizer supports counts of N-grams of words or consecutive characters. Once fitted, the vectorizer has built a dictionary of feature indices:"
   ]
  },
  {
   "cell_type": "code",
   "execution_count": 10,
   "metadata": {},
   "outputs": [],
   "source": [
    "# CountVectorizer supports counts of N-grams of words or consecutive characters. Once fitted, the vectorizer has built a dictionary of feature indices:\n",
    "count_vect.vocabulary_.get(u'algorithm')"
   ]
  },
  {
   "cell_type": "markdown",
   "metadata": {},
   "source": [
    "#### From occurrences to frequencies\n",
    "From occurrences to frequencies¶Occurrence count is a good start but there is an issue: longer documents will have higher average count values than shorter documents, even though they might talk about the same topics.\n",
    "\n",
    "#### TF - Term Frequencies#### TF - Term Frequencies\n",
    "To avoid these potential discrepancies it suffices to divide the number of occurrences of each word in a document by the total number of words in the document: these new features are called tf for Term Frequencies.\n",
    "\n",
    "#### TF - IDF (Term Frequency times inverse document frequency)#### TF - IDF (Term Frequency times inverse document frequency)\n",
    "Another refinement on top of tf is to downscale weights for words that occur in many documents in the corpus and are therefore less informative than those that occur only in a smaller portion of the corpus.\n",
    "\n",
    "This downscaling is called tf–idf for “Term Frequency times Inverse Document Frequency”.\n",
    "\n",
    "Both tf and tf–idf can be computed as follows using TfidfTransformer:"
   ]
  },
  {
   "cell_type": "code",
   "execution_count": 11,
   "metadata": {},
   "outputs": [
    {
     "data": {
      "text/plain": [
       "(98636, 26862)"
      ]
     },
     "execution_count": 11,
     "metadata": {},
     "output_type": "execute_result"
    }
   ],
   "source": [
    "# for our calculations we need to calculate TF and TF-IDF\n",
    "# We can achieve both using below line of code and the X_train_counts from above:\n",
    "\n",
    "tfidf_transformer = TfidfTransformer(use_idf=False)\n",
    "X_train_tfidf = tfidf_transformer.fit_transform(X_train_counts)\n",
    "X_train_tfidf.shape\n",
    "\n",
    "# The output will be the dimension of the Document-Term matrix -> (11314, 130107) which is the same shape as our X_train_counts shape"
   ]
  },
  {
   "cell_type": "markdown",
   "metadata": {},
   "source": [
    "#### Training a Classifier on the X_train_tfidf and y_train data\n",
    "Naive Bayes Classifier: the one most suitable for word counts is the multinomial variant"
   ]
  },
  {
   "cell_type": "code",
   "execution_count": 12,
   "metadata": {},
   "outputs": [],
   "source": [
    "# from sklearn.naive_bayes import MultinomialNB - this was done under dependencies in cell [1]\n",
    "clf = MultinomialNB().fit(X_train_tfidf, y_train)"
   ]
  },
  {
   "cell_type": "markdown",
   "metadata": {},
   "source": [
    "#### After fitting the training set, let’s make a prediction using the first row of X_test and y_test.\n",
    "\n",
    "To try to predict the outcome on a new document we need to extract the features using almost the same feature extracting chain as before. The difference is that we call transform instead of fit_transform on the transformers, since they have already been fit to the training set:"
   ]
  },
  {
   "cell_type": "code",
   "execution_count": 13,
   "metadata": {},
   "outputs": [
    {
     "data": {
      "text/plain": [
       "[\"Here's the latest in a string of great Cabs from Vine Cliff. It shows the full ripeness of the vintage, with a rich array of blackberry, cassis, cherry, chocolate and caramel flavors. But it wisely preserves structure with fine acidity and a complex tannic architecture. Should develop well over the next 10 years.\"]"
      ]
     },
     "execution_count": 13,
     "metadata": {},
     "output_type": "execute_result"
    }
   ],
   "source": [
    "# we are going to want the text from a row (take first row) of X_test\n",
    "new_description = [X_test.iloc[0]]\n",
    "\n",
    "new_description"
   ]
  },
  {
   "cell_type": "code",
   "execution_count": 14,
   "metadata": {},
   "outputs": [
    {
     "data": {
      "text/plain": [
       "'Cabernet Sauvignon'"
      ]
     },
     "execution_count": 14,
     "metadata": {},
     "output_type": "execute_result"
    }
   ],
   "source": [
    "# if we enter this into a prediction it should produce the y_test.iloc[0] category\n",
    "y_test.iloc[0]"
   ]
  },
  {
   "cell_type": "markdown",
   "metadata": {},
   "source": [
    "####  Build a pipeline\n",
    "In order to make the vectorizer => transformer => classifier easier to work with, scikit-learn provides a Pipeline class that behaves like a compound classifier:\n",
    "\n",
    "\n"
   ]
  },
  {
   "cell_type": "code",
   "execution_count": 15,
   "metadata": {},
   "outputs": [],
   "source": [
    "# MultinomialNb\n",
    "# The names vect, tfidf and clf (classifier) are arbitrary. \n",
    "# We will use them to perform grid search for suitable hyperparameters below. \n",
    "# We can now train the model with a single command:\n",
    "\n",
    "text_clf = Pipeline([\n",
    "    ('vect', CountVectorizer()),\n",
    "    ('tfidf', TfidfTransformer()),\n",
    "    ('clf', MultinomialNB()),\n",
    "])"
   ]
  },
  {
   "cell_type": "code",
   "execution_count": 16,
   "metadata": {},
   "outputs": [
    {
     "data": {
      "text/plain": [
       "Pipeline(steps=[('vect', CountVectorizer()), ('tfidf', TfidfTransformer()),\n",
       "                ('clf', MultinomialNB())])"
      ]
     },
     "execution_count": 16,
     "metadata": {},
     "output_type": "execute_result"
    }
   ],
   "source": [
    "text_clf.fit(X_train, y_train)"
   ]
  },
  {
   "cell_type": "markdown",
   "metadata": {},
   "source": [
    "#### Evaluation of the performance of the MultinomialNb model on the test set\n",
    "Evaluating the predictive accuracy of the model is equally easy:"
   ]
  },
  {
   "cell_type": "code",
   "execution_count": 17,
   "metadata": {},
   "outputs": [
    {
     "data": {
      "text/plain": [
       "0.37406379500437215"
      ]
     },
     "execution_count": 17,
     "metadata": {},
     "output_type": "execute_result"
    }
   ],
   "source": [
    "#>>> docs_test = twenty_test.data\n",
    "#>>> predicted = text_clf.predict(docs_test)\n",
    "#>>> np.mean(predicted == twenty_test.target)\n",
    "#0.8348...\n",
    "\n",
    "docs_test = data['text']\n",
    "predicted = text_clf.predict(docs_test)\n",
    "np.mean(predicted == data['label'])"
   ]
  },
  {
   "cell_type": "markdown",
   "metadata": {},
   "source": [
    "We achieved 37.4% accuracy. Let’s see if we can do better with a linear support vector machine (SVM), which is widely regarded as one of the best text classification algorithms (although it’s also a bit slower than naïve Bayes). We can change the learner by simply plugging a different classifier object into our pipeline:"
   ]
  },
  {
   "cell_type": "code",
   "execution_count": 18,
   "metadata": {},
   "outputs": [
    {
     "data": {
      "text/plain": [
       "Pipeline(steps=[('vect', CountVectorizer()), ('tfidf', TfidfTransformer()),\n",
       "                ('clf', SGDClassifier())])"
      ]
     },
     "execution_count": 18,
     "metadata": {},
     "output_type": "execute_result"
    }
   ],
   "source": [
    "# using Support Vector Machine classifier with Stochastic gradient descent (SGD) learning\n",
    "# note there are many parameters for SGDClassifier - for the first iteration we will use default parameter values\n",
    "\n",
    "text_clf = Pipeline ([\n",
    "    ('vect', CountVectorizer()),\n",
    "    ('tfidf', TfidfTransformer()),\n",
    "    ('clf', SGDClassifier())\n",
    "])\n",
    "\n",
    "text_clf.fit(data['text'], data['label'])"
   ]
  },
  {
   "cell_type": "code",
   "execution_count": 19,
   "metadata": {},
   "outputs": [
    {
     "data": {
      "text/plain": [
       "0.7266091320381706"
      ]
     },
     "execution_count": 19,
     "metadata": {},
     "output_type": "execute_result"
    }
   ],
   "source": [
    "predicted = text_clf.predict(data['text'])\n",
    "np.mean(predicted == data['label'])"
   ]
  },
  {
   "cell_type": "markdown",
   "metadata": {},
   "source": [
    "###### We achieved 72.6% accuracy using the SVM. scikit-learn provides further utilities for more detailed performance analysis of the results:"
   ]
  },
  {
   "cell_type": "code",
   "execution_count": 20,
   "metadata": {},
   "outputs": [
    {
     "name": "stderr",
     "output_type": "stream",
     "text": [
      "C:\\Users\\jamie\\anaconda3\\lib\\site-packages\\sklearn\\metrics\\_classification.py:1245: UndefinedMetricWarning: Precision and F-score are ill-defined and being set to 0.0 in labels with no predicted samples. Use `zero_division` parameter to control this behavior.\n",
      "  _warn_prf(average, modifier, msg_start, len(result))\n",
      "C:\\Users\\jamie\\anaconda3\\lib\\site-packages\\sklearn\\metrics\\_classification.py:1245: UndefinedMetricWarning: Precision and F-score are ill-defined and being set to 0.0 in labels with no predicted samples. Use `zero_division` parameter to control this behavior.\n",
      "  _warn_prf(average, modifier, msg_start, len(result))\n"
     ]
    },
    {
     "name": "stdout",
     "output_type": "stream",
     "text": [
      "                                     precision    recall  f1-score   support\n",
      "\n",
      "                          Aglianico       0.89      0.76      0.82       257\n",
      "                              Airen       0.60      1.00      0.75         6\n",
      "                             Albana       0.69      0.73      0.71        15\n",
      "                           Albariño       0.91      0.66      0.76       529\n",
      "                          Albarossa       0.00      0.00      0.00         1\n",
      "                            Albarín       0.00      0.00      0.00         1\n",
      "                           Aleatico       0.70      0.70      0.70        10\n",
      "                        Alfrocheiro       0.71      0.94      0.81        18\n",
      "                           Alicante       0.64      0.90      0.75        10\n",
      "                  Alicante Bouschet       0.47      0.50      0.49        36\n",
      "                            Aligoté       0.91      0.33      0.49        30\n",
      "                 Alsace white blend       0.68      0.55      0.61        51\n",
      "                            Altesse       0.00      0.00      0.00         1\n",
      "                         Alvarelhão       0.50      1.00      0.67         2\n",
      "                          Alvarinho       0.86      0.38      0.53        63\n",
      "               Alvarinho-Chardonnay       0.00      0.00      0.00         2\n",
      "                           Angevine       1.00      0.60      0.75         5\n",
      "                           Ansonica       1.00      1.00      1.00         1\n",
      "                          Antão Vaz       0.91      0.67      0.77        15\n",
      "                              Apple       1.00      1.00      1.00         2\n",
      "                           Aragonez       0.62      0.62      0.62         8\n",
      "                           Aragonês       0.88      0.54      0.67        13\n",
      "                             Arinto       0.68      0.28      0.39        54\n",
      "                             Arneis       0.96      0.79      0.87        63\n",
      "                 Austrian Red Blend       0.68      0.39      0.49        54\n",
      "               Austrian white blend       0.71      0.56      0.63        36\n",
      "                          Auxerrois       0.64      0.64      0.64        14\n",
      "                             Avesso       0.50      0.33      0.40         3\n",
      "                               Azal       0.00      0.00      0.00         1\n",
      "                          Baco Noir       0.60      0.67      0.63         9\n",
      "                               Baga       0.75      0.75      0.75        16\n",
      "              Baga-Touriga Nacional       0.00      0.00      0.00         1\n",
      "                            Barbera       0.80      0.84      0.82       956\n",
      "                           Bastardo       0.40      0.29      0.33         7\n",
      "                              Bical       0.60      0.67      0.63         9\n",
      "                      Black Monukka       0.80      1.00      0.89         4\n",
      "                       Black Muscat       0.70      0.54      0.61        13\n",
      "                      Blauburgunder       0.00      0.00      0.00         1\n",
      "                 Blauer Portugieser       0.83      0.83      0.83         6\n",
      "                      Blaufränkisch       0.86      0.74      0.79       187\n",
      "                              Bobal       0.39      0.75      0.51        16\n",
      "                     Bombino Bianco       0.50      1.00      0.67         1\n",
      "                            Bonarda       0.86      0.66      0.75       152\n",
      "           Bordeaux-style Red Blend       0.71      0.52      0.60      4148\n",
      "         Bordeaux-style White Blend       0.67      0.41      0.51       560\n",
      "                             Bovale       0.60      0.75      0.67         4\n",
      "                          Brachetto       0.53      0.75      0.62        24\n",
      "                            Braucol       1.00      0.67      0.80         3\n",
      "                               Bual       1.00      0.33      0.50         3\n",
      "                        Bukettraube       0.00      0.00      0.00         2\n",
      "                           Cabernet       0.75      0.33      0.46        18\n",
      "                     Cabernet Blend       0.57      0.14      0.23       250\n",
      "                     Cabernet Franc       0.87      0.44      0.59      1258\n",
      "  Cabernet Franc-Cabernet Sauvignon       0.00      0.00      0.00         1\n",
      "           Cabernet Franc-Carmenère       0.25      0.50      0.33         6\n",
      "              Cabernet Franc-Malbec       0.00      0.00      0.00         1\n",
      "              Cabernet Franc-Merlot       0.09      0.22      0.13         9\n",
      "         Cabernet Franc-Tempranillo       0.33      1.00      0.50         2\n",
      "                    Cabernet Merlot       0.54      0.32      0.40        44\n",
      "                   Cabernet Pfeffer       0.00      0.00      0.00         1\n",
      "                 Cabernet Sauvignon       0.66      0.81      0.73     11891\n",
      "        Cabernet Sauvignon Grenache       0.25      1.00      0.40         2\n",
      " Cabernet Sauvignon and Tinta Roriz       0.57      1.00      0.73         4\n",
      "  Cabernet Sauvignon-Cabernet Franc       0.24      0.26      0.25        35\n",
      "       Cabernet Sauvignon-Carmenère       0.61      0.40      0.48        58\n",
      "          Cabernet Sauvignon-Malbec       0.55      0.44      0.49        48\n",
      "          Cabernet Sauvignon-Merlot       0.54      0.25      0.34       206\n",
      "   Cabernet Sauvignon-Merlot-Shiraz       0.14      0.50      0.22         2\n",
      "      Cabernet Sauvignon-Sangiovese       0.18      0.18      0.18        11\n",
      "          Cabernet Sauvignon-Shiraz       0.64      0.25      0.36        73\n",
      "           Cabernet Sauvignon-Syrah       0.69      0.26      0.37       149\n",
      "     Cabernet Sauvignon-Tempranillo       0.00      0.00      0.00         9\n",
      "                     Cabernet-Syrah       0.02      0.08      0.03        12\n",
      "                           Cannonau       0.77      0.86      0.81        35\n",
      "                         Caprettone       0.25      1.00      0.40         1\n",
      "                           Carignan       0.68      0.70      0.69        63\n",
      "                  Carignan-Grenache       0.33      0.14      0.20         7\n",
      "                     Carignan-Syrah       0.00      0.00      0.00         1\n",
      "                          Carignane       0.71      0.40      0.51        25\n",
      "                          Carignano       0.80      0.84      0.82        58\n",
      "                           Carineña       1.00      1.00      1.00         1\n",
      "                  Cariñena-Garnacha       0.00      0.00      0.00         3\n",
      "                          Carmenère       0.78      0.72      0.75       735\n",
      "       Carmenère-Cabernet Sauvignon       0.16      0.45      0.24        20\n",
      "                    Carmenère-Syrah       0.55      0.60      0.57        10\n",
      "                          Carnelian       1.00      1.00      1.00         1\n",
      "                         Carricante       0.93      0.62      0.74        21\n",
      "                        Casavecchia       0.71      0.83      0.77         6\n",
      "                           Castelão       0.68      0.57      0.62        37\n",
      "                        Catalanesca       0.33      1.00      0.50         1\n",
      "                         Catarratto       0.74      0.52      0.61        27\n",
      "                             Cayuga       0.11      0.33      0.17         3\n",
      "                            Cerceal       0.40      0.67      0.50         3\n",
      "                  Cesanese d'Affile       0.33      1.00      0.50         9\n",
      "                        Chambourcin       0.59      0.62      0.61        16\n",
      "                    Champagne Blend       0.80      0.47      0.59       826\n",
      "                           Charbono       0.90      0.47      0.62        40\n",
      "                          Chardonel       0.50      1.00      0.67         1\n",
      "                        Chardonelle       0.00      0.00      0.00         1\n",
      "                         Chardonnay       0.72      0.92      0.81     13351\n",
      "          Chardonnay Weissburgunder       0.00      0.00      0.00         3\n",
      "                Chardonnay-Albariño       0.00      0.00      0.00         4\n",
      "             Chardonnay-Pinot Blanc       1.00      0.62      0.77         8\n",
      "            Chardonnay-Pinot Grigio       0.00      0.00      0.00         1\n",
      "              Chardonnay-Pinot Gris       0.00      0.00      0.00         1\n",
      "               Chardonnay-Sauvignon       0.20      0.20      0.20        10\n",
      "         Chardonnay-Sauvignon Blanc       0.00      0.00      0.00         5\n",
      "                Chardonnay-Semillon       0.60      0.25      0.35        12\n",
      "                Chardonnay-Viognier       0.45      0.26      0.33        68\n",
      "                          Chasselas       1.00      0.40      0.57         5\n",
      "                       Chenin Blanc       0.88      0.65      0.75       631\n",
      "            Chenin Blanc-Chardonnay       0.36      0.13      0.20        30\n",
      "       Chenin Blanc-Sauvignon Blanc       0.00      0.00      0.00         7\n",
      "              Chenin Blanc-Viognier       0.00      0.00      0.00         8\n",
      "                         Ciliegiolo       1.00      0.57      0.73         7\n",
      "                           Cinsault       0.07      0.12      0.09        25\n",
      "                          Clairette       1.00      0.67      0.80         3\n",
      "                             Claret       0.52      0.39      0.44        31\n",
      "                         Cococciola       1.00      1.00      1.00         1\n",
      "                      Coda di Volpe       1.00      0.89      0.94         9\n",
      "                          Colombard       0.79      0.50      0.61        22\n",
      "          Colombard-Sauvignon Blanc       0.50      0.40      0.44        15\n",
      "               Colombard-Ugni Blanc       0.00      0.00      0.00         2\n",
      "                           Colorino       0.25      1.00      0.40         1\n",
      "                            Cortese       0.82      0.76      0.79        76\n",
      "                            Corvina       0.83      0.31      0.45        16\n",
      "      Corvina, Rondinella, Molinara       0.86      0.91      0.88      1240\n",
      "                           Counoise       0.00      0.00      0.00        16\n",
      "                         Crespiello       0.40      1.00      0.57         2\n",
      "                  Códega do Larinho       0.00      0.00      0.00         3\n",
      "                           Dolcetto       0.90      0.86      0.88       332\n",
      "                         Dornfelder       0.25      0.25      0.25         8\n",
      "                        Doña Blanca       1.00      0.50      0.67         2\n",
      "                              Duras       0.75      0.60      0.67         5\n",
      "                            Durello       1.00      1.00      1.00         1\n",
      "                              Durif       0.60      0.60      0.60         5\n",
      "                        Edelzwicker       0.00      0.00      0.00         3\n",
      "                            Elbling       0.00      0.00      0.00         6\n",
      "                          Encruzado       0.85      0.69      0.76        16\n",
      "                           Erbaluce       1.00      1.00      1.00         1\n",
      "                         Falanghina       0.94      0.67      0.78        72\n",
      "                           Favorita       0.29      0.50      0.36         4\n",
      "                       Fer Servadou       0.00      0.00      0.00         2\n",
      "                       Fernão Pires       0.71      0.46      0.56        26\n",
      "                              Fiano       0.82      0.75      0.78       131\n",
      "                           Forcallà       0.33      1.00      0.50         1\n",
      "                          Franconia       0.40      1.00      0.57         2\n",
      "                           Frappato       0.86      0.60      0.71        30\n",
      "                             Freisa       0.00      0.00      0.00         1\n",
      "                           Friulano       0.98      0.92      0.95       136\n",
      "                       Früburgunder       0.00      0.00      0.00         1\n",
      "                         Fumé Blanc       0.61      0.10      0.18       106\n",
      "                            Furmint       0.25      0.75      0.38         4\n",
      "                              G-S-M       0.66      0.23      0.34       151\n",
      "                          Gaglioppo       0.67      0.73      0.70        11\n",
      "                              Gamay       0.79      0.63      0.70       299\n",
      "                         Gamay Noir       0.71      0.38      0.50        13\n",
      "                          Garganega       0.86      0.91      0.88       307\n",
      "                           Garnacha       0.79      0.71      0.75       395\n",
      "                    Garnacha Blanca       0.91      0.53      0.67        19\n",
      "                     Garnacha Blend       0.50      1.00      0.67         2\n",
      "                 Garnacha Tintorera       1.00      1.00      1.00         1\n",
      "                  Garnacha-Cabernet       0.60      1.00      0.75         3\n",
      "                  Garnacha-Graciano       0.67      0.80      0.73         5\n",
      "                Garnacha-Monastrell       0.15      0.40      0.22         5\n",
      "                     Garnacha-Syrah       0.58      0.35      0.44        20\n",
      "               Garnacha-Tempranillo       0.00      0.00      0.00         3\n",
      "                 Gelber Muskateller       0.75      0.71      0.73        17\n",
      "                     Gewürztraminer       0.87      0.77      0.82       868\n",
      "            Gewürztraminer-Riesling       0.38      0.38      0.38         8\n",
      "                              Glera       0.89      0.93      0.91       479\n",
      "                            Godello       0.77      0.72      0.74       102\n",
      "                           Graciano       0.57      0.75      0.65        28\n",
      "                           Gragnano       0.50      0.50      0.50         2\n",
      "                      Grauburgunder       0.25      0.25      0.25        12\n",
      "                          Grecanico       1.00      1.00      1.00         5\n",
      "                          Grechetto       0.30      0.50      0.37         6\n",
      "                              Greco       0.85      0.67      0.75        86\n",
      "                       Greco Bianco       0.33      0.67      0.44         3\n",
      "                           Grenache       0.77      0.41      0.54       585\n",
      "                     Grenache Blanc       0.74      0.19      0.30        73\n",
      "                     Grenache Blend       1.00      0.50      0.67         8\n",
      "                      Grenache Gris       0.00      0.00      0.00         1\n",
      "                  Grenache-Carignan       0.31      0.44      0.36         9\n",
      "                 Grenache-Mourvèdre       0.00      0.00      0.00         2\n",
      "                    Grenache-Shiraz       0.60      0.25      0.35        12\n",
      "                     Grenache-Syrah       0.57      0.20      0.30        64\n",
      "                         Grignolino       1.00      1.00      1.00         1\n",
      "                             Grillo       0.98      0.78      0.87       111\n",
      "                           Grolleau       0.00      0.00      0.00         1\n",
      "                          Groppello       1.00      1.00      1.00         1\n",
      "                       Gros Manseng       0.64      0.50      0.56        14\n",
      "             Gros and Petit Manseng       0.67      0.33      0.44        12\n",
      "                   Grüner Veltliner       0.83      0.77      0.80       834\n",
      "                    Hondarrabi Zuri       0.75      0.63      0.69        19\n",
      "                          Huxelrebe       1.00      1.00      1.00         1\n",
      "                   Incrocio Manzoni       0.12      0.50      0.20         2\n",
      "                            Insolia       0.74      0.56      0.63        45\n",
      "                            Inzolia       0.88      0.54      0.67        26\n",
      "                            Jacquez       0.50      1.00      0.67         1\n",
      "                           Jacquère       0.25      0.33      0.29         3\n",
      "                               Jaen       0.50      0.60      0.55         5\n",
      "              Johannisberg Riesling       0.38      0.36      0.37        14\n",
      "                             Kerner       0.62      0.38      0.48        13\n",
      "                            Lacrima       0.50      0.60      0.55         5\n",
      "                            Lagrein       0.83      0.81      0.82        36\n",
      "                          Lambrusco       0.77      0.85      0.81        54\n",
      "              Lambrusco Grasparossa       1.00      0.67      0.80         3\n",
      "               Lambrusco di Sorbara       1.00      1.00      1.00         2\n",
      "                          Lemberger       0.53      0.70      0.60        30\n",
      "                       Listán Negro       1.00      1.00      1.00         1\n",
      "                     Loin de l'Oeil       0.29      0.67      0.40         3\n",
      "                           Loureiro       1.00      0.41      0.58        34\n",
      "                            Macabeo       0.82      0.56      0.67        16\n",
      "                 Macabeo-Chardonnay       0.00      0.00      0.00         4\n",
      "             Macabeo-Gewürztraminer       0.00      0.00      0.00         1\n",
      "                   Macabeo-Moscatel       0.00      0.00      0.00         3\n",
      "                      Madeira Blend       0.43      0.86      0.57         7\n",
      "                 Madeleine Angevine       1.00      0.50      0.67         2\n",
      "                          Magliocco       1.00      1.00      1.00         1\n",
      "                             Malbec       0.64      0.73      0.68      3026\n",
      "                       Malbec Blend       0.00      0.00      0.00         1\n",
      "                     Malbec-Bonarda       0.25      0.80      0.38         5\n",
      "              Malbec-Cabernet Franc       0.00      0.00      0.00         1\n",
      "          Malbec-Cabernet Sauvignon       0.38      0.26      0.31        57\n",
      "                      Malbec-Merlot       0.79      0.46      0.58        83\n",
      "                Malbec-Petit Verdot       0.00      0.00      0.00         1\n",
      "                       Malbec-Syrah       0.26      0.50      0.35        18\n",
      "                      Malbec-Tannat       0.30      0.38      0.33         8\n",
      "                 Malbec-Tempranillo       0.75      0.43      0.55         7\n",
      "                            Malmsey       0.50      0.50      0.50         2\n",
      "                             Malvar       0.25      1.00      0.40         3\n",
      "                           Malvasia       0.81      0.65      0.72        26\n",
      "                    Malvasia Bianca       0.53      0.66      0.58        29\n",
      "                      Malvasia Fina       0.50      0.56      0.53         9\n",
      "                  Malvasia Istriana       0.83      0.71      0.77         7\n",
      "                      Malvasia Nera       0.22      0.80      0.35         5\n",
      "                     Malvasia-Viura       0.00      0.00      0.00         2\n",
      "                          Malvoisie       0.00      0.00      0.00         1\n",
      "                            Mansois       0.83      1.00      0.91         5\n",
      "                          Mantonico       1.00      1.00      1.00         5\n",
      "                            Manzoni       0.00      0.00      0.00         3\n",
      "                           Marsanne       0.81      0.48      0.60       105\n",
      "                 Marsanne-Roussanne       0.72      0.35      0.47        37\n",
      "                  Marsanne-Viognier       0.00      0.00      0.00         2\n",
      "                          Marzemino       0.67      1.00      0.80         4\n",
      "                      Maréchal Foch       0.50      1.00      0.67         2\n",
      "                             Mataro       0.19      0.43      0.26         7\n",
      "                           Maturana       0.50      0.60      0.55         5\n",
      "                             Mauzac       0.75      0.86      0.80         7\n",
      "                            Mazuelo       1.00      1.00      1.00         2\n",
      "                              Melon       0.81      0.76      0.78        79\n",
      "                             Mencía       0.79      0.73      0.76       146\n",
      "                           Meritage       0.49      0.18      0.26       310\n",
      "                             Merlot       0.73      0.60      0.66      4801\n",
      "                    Merlot-Cabernet       0.16      0.33      0.22        12\n",
      "              Merlot-Cabernet Franc       0.50      0.53      0.51        19\n",
      "          Merlot-Cabernet Sauvignon       0.30      0.19      0.24        72\n",
      "                    Merlot-Grenache       0.00      0.00      0.00         2\n",
      "                      Merlot-Malbec       0.17      0.31      0.22        13\n",
      "               Merlot-Petite Verdot       0.50      1.00      0.67         1\n",
      "                      Merlot-Shiraz       0.00      0.00      0.00         2\n",
      "                       Merlot-Syrah       0.22      0.50      0.31         4\n",
      "                            Mission       1.00      0.33      0.50         3\n",
      "                         Monastrell       0.64      0.69      0.66       148\n",
      "                   Monastrell-Syrah       0.67      0.46      0.55        13\n",
      "                           Mondeuse       0.38      0.50      0.43         6\n",
      "                             Monica       0.53      1.00      0.69        10\n",
      "                      Montepulciano       0.91      0.86      0.88       272\n",
      "                           Morillon       0.00      0.00      0.00         2\n",
      "                       Morio Muskat       0.50      0.75      0.60         4\n",
      "                           Moristel       0.00      0.00      0.00         1\n",
      "                         Moscadello       0.62      0.67      0.64        12\n",
      "                           Moscatel       0.90      0.54      0.68        35\n",
      "                    Moscatel Graúdo       1.00      1.00      1.00         1\n",
      "                      Moscatel Roxo       0.25      0.50      0.33         2\n",
      "             Moscatel de Alejandría       0.00      0.00      0.00         1\n",
      "                            Moscato       0.79      0.81      0.80       378\n",
      "                     Moscato Giallo       0.29      0.15      0.20        13\n",
      "                    Moscato di Noto       0.00      0.00      0.00         1\n",
      "                          Mourvèdre       0.74      0.52      0.61       172\n",
      "                           Muscadel       0.00      0.00      0.00         4\n",
      "                         Muscadelle       0.00      0.00      0.00         3\n",
      "                           Muscadet       0.00      0.00      0.00         2\n",
      "                             Muscat       0.91      0.67      0.77       134\n",
      "                       Muscat Blanc       0.67      0.71      0.69        14\n",
      "         Muscat Blanc à Petit Grain       0.17      0.33      0.22         6\n",
      "                     Muscat Canelli       0.63      0.65      0.64        55\n",
      "                     Muscat Hamburg       0.50      1.00      0.67         1\n",
      "                Muscat d'Alexandrie       0.14      0.25      0.18         4\n",
      "               Muscat of Alexandria       1.00      1.00      1.00         1\n",
      "                           Muscatel       1.00      1.00      1.00         1\n",
      "                     Muskat Ottonel       0.62      0.62      0.62         8\n",
      "                        Muskateller       0.80      1.00      0.89         4\n",
      "                     Müller-Thurgau       0.38      0.69      0.49        29\n",
      "                              Nasco       1.00      0.25      0.40         4\n",
      "                           Nebbiolo       0.82      0.89      0.85      1414\n",
      "                           Negrette       0.57      0.73      0.64        11\n",
      "                         Negroamaro       0.81      0.67      0.73        72\n",
      "                  Nerello Cappuccio       0.50      0.50      0.50         4\n",
      "                  Nerello Mascalese       0.66      0.58      0.62        71\n",
      "                       Nero d'Avola       0.90      0.78      0.83       375\n",
      "                      Nero di Troia       0.65      0.69      0.67        16\n",
      "                          Neuburger       0.14      0.25      0.18         4\n",
      "                          Nielluciu       0.67      1.00      0.80         4\n",
      "                             Norton       0.67      0.82      0.73        22\n",
      "                            Nosiola       0.67      0.67      0.67         3\n",
      "                            Nuragus       0.75      1.00      0.86         3\n",
      "                      Orange Muscat       0.64      0.83      0.72        30\n",
      "                       Orangetraube       0.00      0.00      0.00         1\n",
      "                        Pallagrello       0.57      0.94      0.71        17\n",
      "                 Pallagrello Bianco       1.00      0.75      0.86         4\n",
      "                   Pallagrello Nero       0.33      0.50      0.40         4\n",
      "                           Palomino       0.77      0.74      0.76        23\n",
      "                       Pansa Blanca       0.67      1.00      0.80         6\n",
      "                            Pardina       1.00      1.00      1.00         1\n",
      "                          Parraleta       1.00      1.00      1.00         1\n",
      "                          Passerina       0.82      0.93      0.87        15\n",
      "                               País       0.14      0.50      0.22         2\n",
      "                           Pecorino       1.00      0.87      0.93        31\n",
      "                      Pedro Ximénez       0.84      0.79      0.82        48\n",
      "                  Pelaverga Piccolo       0.00      0.00      0.00         2\n",
      "                          Perricone       1.00      1.00      1.00        11\n",
      "                      Petit Manseng       0.80      0.63      0.71        38\n",
      "                       Petit Verdot       0.61      0.55      0.58       196\n",
      "                       Petite Sirah       0.87      0.61      0.72       887\n",
      "                       Petite Syrah       0.33      0.50      0.40         2\n",
      "                      Petite Verdot       0.60      0.62      0.61        69\n",
      "                           Picapoll       1.00      0.67      0.80         3\n",
      "                            Picolit       0.90      0.86      0.88        22\n",
      "                            Picpoul       0.43      0.60      0.50         5\n",
      "                    Pied de Perdrix       0.00      0.00      0.00         1\n",
      "                         Piedirosso       0.72      0.62      0.67        21\n",
      "                             Pigato       1.00      1.00      1.00         2\n",
      "                         Pignoletto       1.00      0.67      0.80         3\n",
      "                    Pinot Auxerrois       0.30      0.33      0.32         9\n",
      "                       Pinot Bianco       0.95      0.77      0.85       115\n",
      "                        Pinot Blanc       0.76      0.29      0.42       411\n",
      "             Pinot Blanc-Chardonnay       0.00      0.00      0.00         3\n",
      "             Pinot Blanc-Pinot Noir       0.00      0.00      0.00         2\n",
      "                       Pinot Grigio       0.79      0.67      0.72      1258\n",
      "            Pinot Grigio-Chardonnay       0.00      0.00      0.00         1\n",
      "       Pinot Grigio-Sauvignon Blanc       0.00      0.00      0.00         1\n",
      "                         Pinot Gris       0.75      0.61      0.67      1252\n",
      "                      Pinot Meunier       0.00      0.00      0.00        19\n",
      "                         Pinot Nero       0.93      0.25      0.39       113\n",
      "                         Pinot Noir       0.72      0.90      0.80     13246\n",
      "                   Pinot Noir-Gamay       0.00      0.00      0.00         5\n",
      "                   Pinot Noir-Syrah       0.00      0.00      0.00         2\n",
      "                   Pinot-Chardonnay       1.00      0.75      0.86         4\n",
      "                           Pinotage       0.68      0.79      0.73       193\n",
      "                    Pinotage-Merlot       0.00      0.00      0.00         1\n",
      "                               Port       0.84      0.77      0.80       743\n",
      "                     Portuguese Red       0.72      0.74      0.73      1799\n",
      "                    Portuguese Rosé       0.50      0.12      0.20         8\n",
      "               Portuguese Sparkling       0.68      0.45      0.55        33\n",
      "                   Portuguese White       0.76      0.57      0.65       716\n",
      "                            Premsal       0.00      0.00      0.00         1\n",
      "                      Prieto Picudo       0.32      0.77      0.45        22\n",
      "                          Primitivo       0.79      0.54      0.64       224\n",
      "                         Prié Blanc       0.14      0.50      0.22         2\n",
      "                           Prosecco       0.93      0.81      0.87       515\n",
      "                 Provence red blend       0.53      0.41      0.46        22\n",
      "               Provence white blend       0.50      0.20      0.29         5\n",
      "                   Prugnolo Gentile       0.78      0.66      0.71        85\n",
      "                         Pugnitello       1.00      0.67      0.80         3\n",
      "                             Raboso       1.00      0.76      0.87        17\n",
      "                          Red Blend       0.66      0.61      0.63      8787\n",
      "                            Refosco       0.25      0.60      0.35         5\n",
      "              Rhône-style Red Blend       0.74      0.63      0.68      1450\n",
      "            Rhône-style White Blend       0.82      0.70      0.75       401\n",
      "                     Ribolla Gialla       0.84      0.73      0.78        44\n",
      "                          Rieslaner       0.00      0.00      0.00         2\n",
      "                           Riesling       0.79      0.88      0.84      5029\n",
      "                            Rivaner       0.00      0.00      0.00         1\n",
      "                         Rkatsiteli       0.50      0.30      0.37        10\n",
      "                              Rolle       1.00      0.75      0.86         4\n",
      "                         Romorantin       1.00      1.00      1.00         1\n",
      "                             Rosado       0.56      0.43      0.49        23\n",
      "                             Rosato       0.69      0.35      0.46        26\n",
      "                           Roscetto       1.00      1.00      1.00         1\n",
      "                               Rosé       0.68      0.77      0.72      2416\n",
      "                     Roter Traminer       1.00      1.00      1.00         2\n",
      "                    Roter Veltliner       0.58      0.58      0.58        12\n",
      "                         Rotgipfler       0.62      0.83      0.71         6\n",
      "                          Roussanne       0.66      0.52      0.58       182\n",
      "           Roussanne-Grenache Blanc       0.29      1.00      0.44         2\n",
      "                 Roussanne-Marsanne       0.00      0.00      0.00         3\n",
      "                 Roussanne-Viognier       0.80      0.36      0.50        11\n",
      "                           Roviello       1.00      1.00      1.00         1\n",
      "                              Ruché       0.88      0.58      0.70        12\n",
      "                             Rufete       0.00      0.00      0.00         1\n",
      "                         Sagrantino       0.69      0.78      0.73        79\n",
      "                         Sangiovese       0.83      0.58      0.69      2809\n",
      "                Sangiovese Cabernet       0.00      0.00      0.00         1\n",
      "                  Sangiovese Grosso       0.79      0.91      0.85       880\n",
      "      Sangiovese-Cabernet Sauvignon       0.00      0.00      0.00         3\n",
      "                   Sangiovese-Syrah       0.00      0.00      0.00         4\n",
      "                           Saperavi       0.67      0.67      0.67         3\n",
      "                          Sauvignon       0.90      0.47      0.62       230\n",
      "                    Sauvignon Blanc       0.69      0.83      0.75      5970\n",
      "         Sauvignon Blanc-Chardonnay       0.50      0.36      0.42        11\n",
      "       Sauvignon Blanc-Chenin Blanc       0.00      0.00      0.00         3\n",
      "           Sauvignon Blanc-Semillon       0.50      0.11      0.18        63\n",
      "            Sauvignon Blanc-Verdejo       0.00      0.00      0.00         5\n",
      "                     Sauvignon Gris       0.38      0.23      0.29        13\n",
      "                   Sauvignon Musqué       0.00      0.00      0.00         1\n",
      "                           Savagnin       0.50      0.50      0.50         6\n",
      "                          Scheurebe       0.54      0.61      0.57        23\n",
      "                            Schiava       0.71      0.71      0.71         7\n",
      "                   Schwartzriesling       1.00      1.00      1.00         2\n",
      "                            Segalin       1.00      1.00      1.00         2\n",
      "                Semillon-Chardonnay       0.31      0.31      0.31        16\n",
      "           Semillon-Sauvignon Blanc       0.66      0.38      0.48        81\n",
      "                            Sercial       0.00      0.00      0.00         1\n",
      "                       Seyval Blanc       0.25      0.17      0.20         6\n",
      "                             Sherry       0.80      0.87      0.83        99\n",
      "                             Shiraz       0.77      0.75      0.76      1841\n",
      "          Shiraz-Cabernet Sauvignon       0.63      0.41      0.50        93\n",
      "                    Shiraz-Grenache       0.50      0.23      0.32        30\n",
      "                      Shiraz-Malbec       0.20      0.17      0.18         6\n",
      "                      Shiraz-Merlot       0.22      1.00      0.36         2\n",
      "                   Shiraz-Mourvèdre       0.15      0.50      0.24         4\n",
      "                    Shiraz-Pinotage       0.00      0.00      0.00         6\n",
      "                 Shiraz-Tempranillo       0.50      0.62      0.56         8\n",
      "                    Shiraz-Viognier       0.82      0.26      0.40        87\n",
      "                         Siegerrebe       0.40      0.50      0.44         4\n",
      "                           Silvaner       0.83      0.83      0.83        48\n",
      "                  Silvaner-Traminer       0.00      0.00      0.00         1\n",
      "                              Siria       0.50      0.43      0.46         7\n",
      "                             Sirica       1.00      1.00      1.00         2\n",
      "                             Sousão       0.60      1.00      0.75         3\n",
      "                    Sparkling Blend       0.76      0.61      0.68      1769\n",
      "                      Spätburgunder       0.55      0.36      0.43        50\n",
      "                        St. Laurent       0.79      0.78      0.78        89\n",
      "                        St. Vincent       0.00      0.00      0.00         1\n",
      "                              Steen       0.00      0.00      0.00         3\n",
      "                       Susumaniello       0.67      1.00      0.80         6\n",
      "                           Sylvaner       0.44      0.56      0.49        34\n",
      "                           Symphony       0.40      0.80      0.53         5\n",
      "                              Syrah       0.77      0.68      0.72      5492\n",
      "                      Syrah-Bonarda       0.00      0.00      0.00         1\n",
      "                     Syrah-Cabernet       0.73      0.30      0.42        54\n",
      "               Syrah-Cabernet Franc       0.00      0.00      0.00         3\n",
      "           Syrah-Cabernet Sauvignon       0.30      0.18      0.22        17\n",
      "                     Syrah-Carignan       0.00      0.00      0.00         1\n",
      "                     Syrah-Grenache       0.80      0.36      0.49        45\n",
      "            Syrah-Grenache-Viognier       0.40      0.50      0.44         4\n",
      "                       Syrah-Malbec       0.00      0.00      0.00         1\n",
      "                       Syrah-Merlot       0.00      0.00      0.00         2\n",
      "                    Syrah-Mourvèdre       0.00      0.00      0.00         4\n",
      "                 Syrah-Petite Sirah       0.00      0.00      0.00        14\n",
      "                  Syrah-Tempranillo       0.00      0.00      0.00         6\n",
      "                     Syrah-Viognier       0.00      0.00      0.00        11\n",
      "                            Sämling       0.00      0.00      0.00         2\n",
      "                           Sémillon       0.92      0.47      0.62       214\n",
      "                                Tai       0.60      1.00      0.75         3\n",
      "                             Tannat       0.96      0.72      0.82        95\n",
      "                    Tannat-Cabernet       0.82      0.33      0.47        27\n",
      "              Tannat-Cabernet Franc       0.38      0.33      0.35         9\n",
      "                      Tannat-Merlot       0.00      0.00      0.00         2\n",
      "                        Tempranillo       0.74      0.61      0.67      2439\n",
      "                 Tempranillo Blanco       0.50      0.33      0.40         9\n",
      "                  Tempranillo Blend       0.77      0.46      0.57       707\n",
      "     Tempranillo-Cabernet Sauvignon       0.46      0.37      0.41        84\n",
      "               Tempranillo-Garnacha       0.55      0.43      0.49        60\n",
      "                 Tempranillo-Malbec       0.00      0.00      0.00         1\n",
      "                 Tempranillo-Merlot       0.57      0.44      0.50        18\n",
      "                 Tempranillo-Shiraz       0.44      0.30      0.36        23\n",
      "                          Teroldego       0.57      0.62      0.59        26\n",
      "                Teroldego Rotaliano       1.00      1.00      1.00         2\n",
      "                      Tinta Barroca       1.00      1.00      1.00         1\n",
      "                         Tinta Fina       0.47      0.73      0.57        11\n",
      "                    Tinta Francisca       0.00      0.00      0.00         1\n",
      "                   Tinta Negra Mole       1.00      0.50      0.67         2\n",
      "                        Tinta Roriz       0.44      0.31      0.36        13\n",
      "                      Tinta de Toro       0.84      0.76      0.79       205\n",
      "                          Tintilia        0.67      1.00      0.80         2\n",
      "                         Tinto Fino       0.54      0.63      0.58        52\n",
      "                     Tinto del Pais       0.45      0.72      0.55        74\n",
      "                              Tocai       1.00      1.00      1.00         1\n",
      "                     Tocai Friulano       0.91      0.61      0.73        33\n",
      "                        Tocai Rosso       0.00      0.00      0.00         3\n",
      "                              Tokay       0.77      0.83      0.80        12\n",
      "                   Tokay Pinot Gris       0.17      0.25      0.20         4\n",
      "                            Torbato       0.50      1.00      0.67         2\n",
      "                           Torontel       0.00      0.00      0.00         1\n",
      "                          Torrontés       0.82      0.79      0.81       363\n",
      "                     Touriga Franca       0.55      0.67      0.60         9\n",
      "                   Touriga Nacional       0.70      0.30      0.42       155\n",
      "             Touriga Nacional Blend       0.57      0.33      0.42        12\n",
      "Touriga Nacional-Cabernet Sauvignon       0.56      0.43      0.49        23\n",
      "                           Traminer       0.80      0.64      0.71        25\n",
      "                         Traminette       0.58      0.64      0.61        11\n",
      "                          Trebbiano       0.90      0.54      0.68        48\n",
      "                Trebbiano di Lugana       0.40      0.40      0.40         5\n",
      "                 Trebbiano-Malvasia       0.60      0.75      0.67         4\n",
      "                             Trepat       0.18      0.25      0.21         8\n",
      "                        Trincadeira       0.67      0.73      0.70        11\n",
      "                     Trousseau Gris       0.00      0.00      0.00         1\n",
      "                           Turbiana       0.97      0.44      0.61        63\n",
      "                         Ugni Blanc       0.00      0.00      0.00         1\n",
      "               Ugni Blanc-Colombard       0.78      0.54      0.64        13\n",
      "                       Uva di Troia       0.64      0.58      0.61        12\n",
      "                          Valdiguié       1.00      1.00      1.00         3\n",
      "                          Veltliner       0.00      0.00      0.00         2\n",
      "                            Verdeca       0.83      1.00      0.91         5\n",
      "                            Verdejo       0.84      0.59      0.69       315\n",
      "            Verdejo-Sauvignon Blanc       0.25      0.17      0.20         6\n",
      "                      Verdejo-Viura       0.67      0.32      0.43        25\n",
      "                           Verdelho       0.71      0.48      0.58        62\n",
      "                         Verdicchio       0.93      0.91      0.92        47\n",
      "                           Verduzzo       1.00      0.62      0.77         8\n",
      "                 Verduzzo Friulano        0.89      0.80      0.84        10\n",
      "                         Vermentino       0.92      0.76      0.83       190\n",
      "                    Vermentino Nero       0.00      0.00      0.00         2\n",
      "                          Vernaccia       0.76      0.83      0.79        65\n",
      "                          Vespaiolo       1.00      1.00      1.00         3\n",
      "                          Vidadillo       1.00      1.00      1.00         1\n",
      "                        Vidal Blanc       0.81      0.58      0.68        36\n",
      "                           Vignoles       0.75      0.68      0.71        22\n",
      "                             Vinhão       0.00      0.00      0.00         2\n",
      "                           Viognier       0.83      0.62      0.71      1227\n",
      "                Viognier-Chardonnay       0.17      0.12      0.14         8\n",
      "            Viognier-Grenache Blanc       0.50      0.50      0.50         2\n",
      "                  Viognier-Marsanne       0.22      0.29      0.25         7\n",
      "                 Viognier-Roussanne       0.55      0.61      0.58        18\n",
      "                 Viognier-Valdiguié       0.50      1.00      0.67         1\n",
      "                              Viura       0.61      0.38      0.47       110\n",
      "                   Viura-Chardonnay       0.60      0.55      0.57        11\n",
      "              Viura-Sauvignon Blanc       0.00      0.00      0.00         1\n",
      "                      Viura-Verdejo       0.00      0.00      0.00         1\n",
      "                     Weissburgunder       0.68      0.28      0.40        46\n",
      "                     Welschriesling       0.53      0.50      0.51        20\n",
      "                        White Blend       0.80      0.43      0.56      2335\n",
      "                         White Port       0.00      0.00      0.00         1\n",
      "                     White Riesling       0.65      0.47      0.55        32\n",
      "                           Xarel-lo       0.55      0.50      0.52        24\n",
      "                            Zibibbo       0.82      0.90      0.86        31\n",
      "                        Zierfandler       1.00      0.50      0.67         2\n",
      "             Zierfandler-Rotgipfler       0.00      0.00      0.00         2\n",
      "                          Zinfandel       0.77      0.80      0.78      3792\n",
      "                           Zweigelt       0.81      0.75      0.78       199\n",
      "\n",
      "                           accuracy                           0.73    131515\n",
      "                          macro avg       0.54      0.51      0.50    131515\n",
      "                       weighted avg       0.73      0.73      0.72    131515\n",
      "\n"
     ]
    },
    {
     "name": "stderr",
     "output_type": "stream",
     "text": [
      "C:\\Users\\jamie\\anaconda3\\lib\\site-packages\\sklearn\\metrics\\_classification.py:1245: UndefinedMetricWarning: Precision and F-score are ill-defined and being set to 0.0 in labels with no predicted samples. Use `zero_division` parameter to control this behavior.\n",
      "  _warn_prf(average, modifier, msg_start, len(result))\n"
     ]
    }
   ],
   "source": [
    "print(metrics.classification_report(data['label'], predicted))"
   ]
  },
  {
   "cell_type": "code",
   "execution_count": 21,
   "metadata": {},
   "outputs": [
    {
     "data": {
      "text/plain": [
       "array([[ 195,    0,    0, ...,    0,    3,    0],\n",
       "       [   0,    6,    0, ...,    0,    0,    0],\n",
       "       [   0,    0,   11, ...,    0,    0,    0],\n",
       "       ...,\n",
       "       [   0,    0,    0, ...,    0,    0,    0],\n",
       "       [   1,    0,    1, ...,    0, 3015,    1],\n",
       "       [   0,    0,    0, ...,    0,    0,  150]], dtype=int64)"
      ]
     },
     "execution_count": 21,
     "metadata": {},
     "output_type": "execute_result"
    }
   ],
   "source": [
    "metrics.confusion_matrix(data['label'], predicted)"
   ]
  },
  {
   "cell_type": "code",
   "execution_count": null,
   "metadata": {},
   "outputs": [
    {
     "data": {
      "text/plain": [
       "<sklearn.metrics._plot.confusion_matrix.ConfusionMatrixDisplay at 0x2822abfd760>"
      ]
     },
     "execution_count": 22,
     "metadata": {},
     "output_type": "execute_result"
    }
   ],
   "source": [
    "plot_confusion_matrix(text_clf, X_test, y_test)  "
   ]
  },
  {
   "cell_type": "markdown",
   "metadata": {},
   "source": [
    "#### Parameter tuning using grid search"
   ]
  },
  {
   "cell_type": "markdown",
   "metadata": {},
   "source": [
    "We’ve already encountered some parameters such as use_idf in the TfidfTransformer. Classifiers tend to have many parameters as well; e.g., MultinomialNB includes a smoothing parameter alpha and SGDClassifier has a penalty parameter alpha and configurable loss and penalty terms in the objective function (see the module documentation, or use the Python help function to get a description of these).\n",
    "\n",
    "Instead of tweaking the parameters of the various components of the chain, it is possible to run an exhaustive search of the best parameters on a grid of possible values. We try out all classifiers on either words or bigrams, with or without idf, and with a penalty parameter of either 0.01 or 0.001 for the linear SVM:"
   ]
  },
  {
   "cell_type": "code",
   "execution_count": null,
   "metadata": {},
   "outputs": [],
   "source": [
    "# parameter tuning of the SGDClassifier()\n",
    "# note: sklearn.model_selection import GridSearchCV  was imported with dependencies\n",
    "# note below (1e-2, 1e-3) is the same as 0.01 or 0.001\n",
    "parameters = {\n",
    "    'vect__ngram_range': [(1,1), (1,2)],\n",
    "    'tfidf__use_idf': (True, False),\n",
    "    'clf__alpha': (1e-2, 1e-3),\n",
    "}"
   ]
  },
  {
   "cell_type": "markdown",
   "metadata": {},
   "source": [
    "Obviously, such an exhaustive search can be expensive. If we have multiple CPU cores at our disposal, we can tell the grid searcher to try these eight parameter combinations in parallel with the n_jobs parameter. If we give this parameter a value of -1, grid search will detect how many cores are installed and use them all:"
   ]
  },
  {
   "cell_type": "code",
   "execution_count": null,
   "metadata": {},
   "outputs": [],
   "source": [
    "gs_clf = GridSearchCV(text_clf, parameters, cv=5, n_jobs=-1)"
   ]
  },
  {
   "cell_type": "code",
   "execution_count": null,
   "metadata": {},
   "outputs": [],
   "source": [
    "gs_clf = gs_clf.fit(data['text'], data['label'])"
   ]
  },
  {
   "cell_type": "markdown",
   "metadata": {},
   "source": [
    "The object’s best_score_ and best_params_ attributes store the best mean score and the parameters setting corresponding to that score:"
   ]
  },
  {
   "cell_type": "code",
   "execution_count": null,
   "metadata": {},
   "outputs": [],
   "source": [
    "gs_clf.best_score_"
   ]
  },
  {
   "cell_type": "code",
   "execution_count": null,
   "metadata": {},
   "outputs": [],
   "source": [
    "for param_name in sorted(parameters.keys()):\n",
    "    print(\"%s: %r\" % (param_name, gs_clf.best_params_[param_name]))"
   ]
  },
  {
   "cell_type": "code",
   "execution_count": null,
   "metadata": {},
   "outputs": [],
   "source": [
    "# A more detailed summary of the search is available at gs_clf.cv_results_.\n",
    "# gs_clf.cv_results_"
   ]
  },
  {
   "cell_type": "markdown",
   "metadata": {},
   "source": [
    "Using parameter tuning for the parameters above did not improve over the default parameters\n",
    "93.88 vs. 96.6 for 96.6% accuracy using the SVM with default parameters\n",
    "TODO: confirm default parameters are valid"
   ]
  },
  {
   "cell_type": "markdown",
   "metadata": {},
   "source": [
    "#### Next Step would be to examine performance of using a label of the nine wine_styles\n",
    "Note sklearn how to states:\n",
    "if you have multiple labels per document, e.g categories, have a look at the Multiclass and multilabel section.\n",
    "\n",
    "https://scikit-learn.org/stable/modules/multiclass.html#multiclass"
   ]
  },
  {
   "cell_type": "markdown",
   "metadata": {},
   "source": [
    "#### Review article on towards data science on multi-class-text-classification\n",
    "https://towardsdatascience.com/multi-class-text-classification-with-scikit-learn-12f1e60e0a9f"
   ]
  },
  {
   "cell_type": "code",
   "execution_count": null,
   "metadata": {},
   "outputs": [],
   "source": []
  }
 ],
 "metadata": {
  "kernelspec": {
   "display_name": "Python 3",
   "language": "python",
   "name": "python3"
  },
  "language_info": {
   "codemirror_mode": {
    "name": "ipython",
    "version": 3
   },
   "file_extension": ".py",
   "mimetype": "text/x-python",
   "name": "python",
   "nbconvert_exporter": "python",
   "pygments_lexer": "ipython3",
   "version": "3.8.3"
  }
 },
 "nbformat": 4,
 "nbformat_minor": 4
}
