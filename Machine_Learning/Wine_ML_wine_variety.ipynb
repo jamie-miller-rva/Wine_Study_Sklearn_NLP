{
 "cells": [
  {
   "cell_type": "markdown",
   "metadata": {},
   "source": [
    "#### Sklearn: Working with Text Data\n",
    "https://scikit-learn.org/stable/tutorial/text_analytics/working_with_text_data.html"
   ]
  },
  {
   "cell_type": "code",
   "execution_count": 1,
   "metadata": {},
   "outputs": [],
   "source": [
    "# Import dependencies (packages and modules)\n",
    "import pandas as pd\n",
    "import numpy as np\n",
    "import matplotlib.pyplot as plt  \n",
    "\n",
    "from sklearn.model_selection import train_test_split\n",
    "from sklearn.feature_extraction.text import TfidfTransformer\n",
    "from sklearn.feature_extraction.text import CountVectorizer\n",
    "from sklearn.naive_bayes import MultinomialNB\n",
    "from sklearn.pipeline import Pipeline\n",
    "from sklearn.linear_model import SGDClassifier\n",
    "from sklearn import metrics\n",
    "from sklearn.metrics import plot_confusion_matrix\n",
    "from sklearn.model_selection import GridSearchCV"
   ]
  },
  {
   "cell_type": "markdown",
   "metadata": {},
   "source": [
    "#### Load the data set into jupyter notebook\n",
    "The endstate is a dataframe containing a label column and text column"
   ]
  },
  {
   "cell_type": "code",
   "execution_count": 2,
   "metadata": {},
   "outputs": [
    {
     "name": "stdout",
     "output_type": "stream",
     "text": [
      "<class 'pandas.core.frame.DataFrame'>\n",
      "RangeIndex: 93557 entries, 0 to 93556\n",
      "Data columns (total 13 columns):\n",
      " #   Column              Non-Null Count  Dtype  \n",
      "---  ------              --------------  -----  \n",
      " 0   country             93557 non-null  object \n",
      " 1   province            93557 non-null  object \n",
      " 2   region_1            93557 non-null  object \n",
      " 3   winery              93557 non-null  object \n",
      " 4   wine_type           93557 non-null  object \n",
      " 5   wine_style          93557 non-null  object \n",
      " 6   variety             93557 non-null  object \n",
      " 7   name                93557 non-null  object \n",
      " 8   points              93557 non-null  int64  \n",
      " 9   price               93557 non-null  float64\n",
      " 10  points_earned       93557 non-null  int64  \n",
      " 11  value_points_per_$  93557 non-null  float64\n",
      " 12  description         93557 non-null  object \n",
      "dtypes: float64(2), int64(2), object(9)\n",
      "memory usage: 9.3+ MB\n"
     ]
    }
   ],
   "source": [
    "# get csv file from AWS S3 bucket\n",
    "url =\"https://wine-demo-bucket.s3.amazonaws.com/wine_matched_final.csv\"\n",
    "\n",
    "df = pd.read_csv(url)\n",
    "df.info()"
   ]
  },
  {
   "cell_type": "code",
   "execution_count": 3,
   "metadata": {},
   "outputs": [
    {
     "name": "stdout",
     "output_type": "stream",
     "text": [
      "<class 'pandas.core.frame.DataFrame'>\n",
      "RangeIndex: 93557 entries, 0 to 93556\n",
      "Data columns (total 2 columns):\n",
      " #   Column       Non-Null Count  Dtype \n",
      "---  ------       --------------  ----- \n",
      " 0   variety      93557 non-null  object\n",
      " 1   description  93557 non-null  object\n",
      "dtypes: object(2)\n",
      "memory usage: 1.4+ MB\n"
     ]
    }
   ],
   "source": [
    "# reduce the dataframe to just wine_type and description\n",
    "# this is going to be our 'label' and 'text' columns (in the cell below)\n",
    "column_names = ['variety', 'description']\n",
    "df = df.reindex(columns=column_names)\n",
    "\n",
    "df.info()"
   ]
  },
  {
   "cell_type": "code",
   "execution_count": 4,
   "metadata": {},
   "outputs": [
    {
     "name": "stdout",
     "output_type": "stream",
     "text": [
      "<class 'pandas.core.frame.DataFrame'>\n",
      "RangeIndex: 93557 entries, 0 to 93556\n",
      "Data columns (total 2 columns):\n",
      " #   Column  Non-Null Count  Dtype \n",
      "---  ------  --------------  ----- \n",
      " 0   label   93557 non-null  object\n",
      " 1   text    93557 non-null  object\n",
      "dtypes: object(2)\n",
      "memory usage: 1.4+ MB\n"
     ]
    }
   ],
   "source": [
    "# rename wine type to 'label' and description to 'text'\n",
    "df.rename(columns={\"variety\": 'label', \"description\": 'text'}, inplace=True)\n",
    "data = df\n",
    "data.info()"
   ]
  },
  {
   "cell_type": "code",
   "execution_count": 5,
   "metadata": {},
   "outputs": [
    {
     "data": {
      "text/plain": [
       "Chardonnay            13351\n",
       "Pinot Noir            13246\n",
       "Cabernet Sauvignon    11891\n",
       "Sauvignon Blanc        5970\n",
       "Syrah                  5492\n",
       "Riesling               5029\n",
       "Merlot                 4801\n",
       "Zinfandel              3792\n",
       "Malbec                 3026\n",
       "Sangiovese             2809\n",
       "Tempranillo            2439\n",
       "Rosé                   2416\n",
       "Shiraz                 1841\n",
       "Nebbiolo               1414\n",
       "Cabernet Franc         1258\n",
       "Pinot Grigio           1258\n",
       "Pinot Gris             1252\n",
       "Viognier               1227\n",
       "Barbera                 956\n",
       "Petite Sirah            887\n",
       "Gewürztraminer          868\n",
       "Grüner Veltliner        834\n",
       "Port                    743\n",
       "Chenin Blanc            631\n",
       "Grenache                585\n",
       "Albariño                529\n",
       "Prosecco                515\n",
       "Moscato                 378\n",
       "Torrontés               363\n",
       "Dolcetto                332\n",
       "Garganega               307\n",
       "Gamay                   299\n",
       "Montepulciano           272\n",
       "Sémillon                214\n",
       "Zweigelt                199\n",
       "Petit Verdot            196\n",
       "Pinotage                193\n",
       "Vermentino              190\n",
       "Blaufränkisch           187\n",
       "Roussanne               182\n",
       "Touriga Nacional        155\n",
       "Monastrell              148\n",
       "Mencía                  146\n",
       "Marsanne                105\n",
       "Sherry                   99\n",
       "Tannat                   95\n",
       "Sagrantino               79\n",
       "Grenache Blanc           73\n",
       "Nerello Mascalese        71\n",
       "Lambrusco                54\n",
       "Verdicchio               47\n",
       "Moscatel                 35\n",
       "Frappato                 30\n",
       "Cinsault                 25\n",
       "Schiava                   7\n",
       "Picpoul                   5\n",
       "Chasselas                 5\n",
       "Muskateller               4\n",
       "Muscadet                  2\n",
       "Name: label, dtype: int64"
      ]
     },
     "execution_count": 5,
     "metadata": {},
     "output_type": "execute_result"
    }
   ],
   "source": [
    "# how many of each wine_type are in our wine_description dataframe?\n",
    "data['label'].value_counts()"
   ]
  },
  {
   "cell_type": "code",
   "execution_count": 6,
   "metadata": {},
   "outputs": [
    {
     "data": {
      "text/plain": [
       "0    Mac Watson honors the memory of a wine once ma...\n",
       "1    This spent 20 months in 30% new French oak, an...\n",
       "2    This re-named vineyard was formerly bottled as...\n",
       "3    The producer sources from two blocks of the vi...\n",
       "4    From 18-year-old vines, this supple well-balan...\n",
       "Name: text, dtype: object"
      ]
     },
     "execution_count": 6,
     "metadata": {},
     "output_type": "execute_result"
    }
   ],
   "source": [
    "data['text'].head()"
   ]
  },
  {
   "cell_type": "markdown",
   "metadata": {},
   "source": [
    "#### Devide the data into train and test using sklearn train_test_split"
   ]
  },
  {
   "cell_type": "code",
   "execution_count": 7,
   "metadata": {},
   "outputs": [],
   "source": [
    "X = data['text'] # the description\n",
    "y = data['label'] # the wine type\n",
    "\n",
    "X_train, X_test, y_train, y_test = train_test_split(X, y, random_state=42)"
   ]
  },
  {
   "cell_type": "markdown",
   "metadata": {},
   "source": [
    "#### Extract features by tokenizing text using the bag of words technique\n"
   ]
  },
  {
   "cell_type": "code",
   "execution_count": 8,
   "metadata": {},
   "outputs": [
    {
     "data": {
      "text/plain": [
       "CountVectorizer()"
      ]
     },
     "execution_count": 8,
     "metadata": {},
     "output_type": "execute_result"
    }
   ],
   "source": [
    "# we will tokenize and filter stop words using CountVectorizer\n",
    "# this will be used to build a dictionary of features and transforms documents to feature vectors:\n",
    "count_vect = CountVectorizer()\n",
    "count_vect"
   ]
  },
  {
   "cell_type": "code",
   "execution_count": 9,
   "metadata": {},
   "outputs": [
    {
     "data": {
      "text/plain": [
       "(70167, 22291)"
      ]
     },
     "execution_count": 9,
     "metadata": {},
     "output_type": "execute_result"
    }
   ],
   "source": [
    "# creating bag of words for training data\n",
    "# Here by doing ‘count_vect.fit_transform()’\n",
    "# we are learning the vocabulary dictionary and it returns a Document-Term matrix. [n_samples, n_features].\n",
    "X_train_counts = count_vect.fit_transform(X_train)\n",
    "X_train_counts.shape"
   ]
  },
  {
   "cell_type": "markdown",
   "metadata": {},
   "source": [
    "#### CountVectorizer supports counts of N-grams of words or consecutive characters. Once fitted, the vectorizer has built a dictionary of feature indices:"
   ]
  },
  {
   "cell_type": "code",
   "execution_count": 10,
   "metadata": {},
   "outputs": [],
   "source": [
    "# CountVectorizer supports counts of N-grams of words or consecutive characters. Once fitted, the vectorizer has built a dictionary of feature indices:\n",
    "count_vect.vocabulary_.get(u'algorithm')"
   ]
  },
  {
   "cell_type": "markdown",
   "metadata": {},
   "source": [
    "#### From occurrences to frequencies\n",
    "From occurrences to frequencies¶Occurrence count is a good start but there is an issue: longer documents will have higher average count values than shorter documents, even though they might talk about the same topics.\n",
    "\n",
    "#### TF - Term Frequencies#### TF - Term Frequencies\n",
    "To avoid these potential discrepancies it suffices to divide the number of occurrences of each word in a document by the total number of words in the document: these new features are called tf for Term Frequencies.\n",
    "\n",
    "#### TF - IDF (Term Frequency times inverse document frequency)#### TF - IDF (Term Frequency times inverse document frequency)\n",
    "Another refinement on top of tf is to downscale weights for words that occur in many documents in the corpus and are therefore less informative than those that occur only in a smaller portion of the corpus.\n",
    "\n",
    "This downscaling is called tf–idf for “Term Frequency times Inverse Document Frequency”.\n",
    "\n",
    "Both tf and tf–idf can be computed as follows using TfidfTransformer:"
   ]
  },
  {
   "cell_type": "code",
   "execution_count": 11,
   "metadata": {},
   "outputs": [
    {
     "data": {
      "text/plain": [
       "(70167, 22291)"
      ]
     },
     "execution_count": 11,
     "metadata": {},
     "output_type": "execute_result"
    }
   ],
   "source": [
    "# for our calculations we need to calculate TF and TF-IDF\n",
    "# We can achieve both using below line of code and the X_train_counts from above:\n",
    "\n",
    "tfidf_transformer = TfidfTransformer(use_idf=False)\n",
    "X_train_tfidf = tfidf_transformer.fit_transform(X_train_counts)\n",
    "X_train_tfidf.shape\n",
    "\n",
    "# The output will be the dimension of the Document-Term matrix -> (11314, 130107) which is the same shape as our X_train_counts shape"
   ]
  },
  {
   "cell_type": "markdown",
   "metadata": {},
   "source": [
    "#### Training a Classifier on the X_train_tfidf and y_train data\n",
    "Naive Bayes Classifier: the one most suitable for word counts is the multinomial variant"
   ]
  },
  {
   "cell_type": "code",
   "execution_count": 12,
   "metadata": {},
   "outputs": [],
   "source": [
    "# from sklearn.naive_bayes import MultinomialNB - this was done under dependencies in cell [1]\n",
    "clf = MultinomialNB().fit(X_train_tfidf, y_train)"
   ]
  },
  {
   "cell_type": "markdown",
   "metadata": {},
   "source": [
    "#### After fitting the training set, let’s make a prediction using the first row of X_test and y_test.\n",
    "\n",
    "To try to predict the outcome on a new document we need to extract the features using almost the same feature extracting chain as before. The difference is that we call transform instead of fit_transform on the transformers, since they have already been fit to the training set:"
   ]
  },
  {
   "cell_type": "code",
   "execution_count": 13,
   "metadata": {},
   "outputs": [
    {
     "data": {
      "text/plain": [
       "['While there are plenty of firm tannins and weight here, the wine does feel somewhat hollow. The red fruits are there, showing slowly against the tannins. It has fine final acidity, but not the power and concentration you should expect.']"
      ]
     },
     "execution_count": 13,
     "metadata": {},
     "output_type": "execute_result"
    }
   ],
   "source": [
    "# we are going to want the text from a row (take first row) of X_test\n",
    "new_description = [X_test.iloc[0]]\n",
    "\n",
    "new_description"
   ]
  },
  {
   "cell_type": "code",
   "execution_count": 14,
   "metadata": {},
   "outputs": [
    {
     "data": {
      "text/plain": [
       "'Pinot Noir'"
      ]
     },
     "execution_count": 14,
     "metadata": {},
     "output_type": "execute_result"
    }
   ],
   "source": [
    "# if we enter this into a prediction it should produce the y_test.iloc[0] category\n",
    "y_test.iloc[0]"
   ]
  },
  {
   "cell_type": "markdown",
   "metadata": {},
   "source": [
    "####  Build a pipeline\n",
    "In order to make the vectorizer => transformer => classifier easier to work with, scikit-learn provides a Pipeline class that behaves like a compound classifier:\n",
    "\n",
    "\n"
   ]
  },
  {
   "cell_type": "code",
   "execution_count": 15,
   "metadata": {},
   "outputs": [],
   "source": [
    "# MultinomialNb\n",
    "# The names vect, tfidf and clf (classifier) are arbitrary. \n",
    "# We will use them to perform grid search for suitable hyperparameters below. \n",
    "# We can now train the model with a single command:\n",
    "\n",
    "text_clf = Pipeline([\n",
    "    ('vect', CountVectorizer()),\n",
    "    ('tfidf', TfidfTransformer()),\n",
    "    ('clf', MultinomialNB()),\n",
    "])"
   ]
  },
  {
   "cell_type": "code",
   "execution_count": 16,
   "metadata": {},
   "outputs": [
    {
     "data": {
      "text/plain": [
       "Pipeline(steps=[('vect', CountVectorizer()), ('tfidf', TfidfTransformer()),\n",
       "                ('clf', MultinomialNB())])"
      ]
     },
     "execution_count": 16,
     "metadata": {},
     "output_type": "execute_result"
    }
   ],
   "source": [
    "text_clf.fit(X_train, y_train)"
   ]
  },
  {
   "cell_type": "markdown",
   "metadata": {},
   "source": [
    "#### Evaluation of the performance of the MultinomialNb model on the test set\n",
    "Evaluating the predictive accuracy of the model is equally easy:"
   ]
  },
  {
   "cell_type": "code",
   "execution_count": 17,
   "metadata": {},
   "outputs": [
    {
     "data": {
      "text/plain": [
       "0.48341652682322006"
      ]
     },
     "execution_count": 17,
     "metadata": {},
     "output_type": "execute_result"
    }
   ],
   "source": [
    "#>>> docs_test = twenty_test.data\n",
    "#>>> predicted = text_clf.predict(docs_test)\n",
    "#>>> np.mean(predicted == twenty_test.target)\n",
    "#0.8348...\n",
    "\n",
    "docs_test = data['text']\n",
    "predicted = text_clf.predict(docs_test)\n",
    "np.mean(predicted == data['label'])"
   ]
  },
  {
   "cell_type": "markdown",
   "metadata": {},
   "source": [
    "We achieved 94.5% accuracy. Let’s see if we can do better with a linear support vector machine (SVM), which is widely regarded as one of the best text classification algorithms (although it’s also a bit slower than naïve Bayes). We can change the learner by simply plugging a different classifier object into our pipeline:"
   ]
  },
  {
   "cell_type": "code",
   "execution_count": 18,
   "metadata": {},
   "outputs": [
    {
     "data": {
      "text/plain": [
       "Pipeline(steps=[('vect', CountVectorizer()), ('tfidf', TfidfTransformer()),\n",
       "                ('clf', SGDClassifier())])"
      ]
     },
     "execution_count": 18,
     "metadata": {},
     "output_type": "execute_result"
    }
   ],
   "source": [
    "# using Support Vector Machine classifier with Stochastic gradient descent (SGD) learning\n",
    "# note there are many parameters for SGDClassifier - for the first iteration we will use default parameter values\n",
    "\n",
    "text_clf = Pipeline ([\n",
    "    ('vect', CountVectorizer()),\n",
    "    ('tfidf', TfidfTransformer()),\n",
    "    ('clf', SGDClassifier())\n",
    "])\n",
    "\n",
    "text_clf.fit(data['text'], data['label'])"
   ]
  },
  {
   "cell_type": "code",
   "execution_count": 19,
   "metadata": {},
   "outputs": [
    {
     "data": {
      "text/plain": [
       "0.8139636798956785"
      ]
     },
     "execution_count": 19,
     "metadata": {},
     "output_type": "execute_result"
    }
   ],
   "source": [
    "predicted = text_clf.predict(data['text'])\n",
    "np.mean(predicted == data['label'])"
   ]
  },
  {
   "cell_type": "markdown",
   "metadata": {},
   "source": [
    "We achieved 96.6% accuracy using the SVM. scikit-learn provides further utilities for more detailed performance analysis of the results:"
   ]
  },
  {
   "cell_type": "code",
   "execution_count": 20,
   "metadata": {},
   "outputs": [
    {
     "name": "stdout",
     "output_type": "stream",
     "text": [
      "                    precision    recall  f1-score   support\n",
      "\n",
      "          Albariño       0.94      0.60      0.73       529\n",
      "           Barbera       0.92      0.84      0.88       956\n",
      "     Blaufränkisch       0.90      0.72      0.80       187\n",
      "    Cabernet Franc       0.81      0.52      0.63      1258\n",
      "Cabernet Sauvignon       0.76      0.85      0.81     11891\n",
      "        Chardonnay       0.79      0.96      0.86     13351\n",
      "         Chasselas       0.14      0.20      0.17         5\n",
      "      Chenin Blanc       0.95      0.58      0.72       631\n",
      "          Cinsault       0.12      0.28      0.17        25\n",
      "          Dolcetto       0.94      0.84      0.89       332\n",
      "          Frappato       0.53      0.63      0.58        30\n",
      "             Gamay       0.81      0.58      0.68       299\n",
      "         Garganega       1.00      0.85      0.92       307\n",
      "    Gewürztraminer       0.91      0.76      0.83       868\n",
      "          Grenache       0.78      0.44      0.56       585\n",
      "    Grenache Blanc       0.73      0.11      0.19        73\n",
      "  Grüner Veltliner       0.89      0.69      0.78       834\n",
      "         Lambrusco       0.90      0.85      0.88        54\n",
      "            Malbec       0.86      0.72      0.78      3026\n",
      "          Marsanne       0.70      0.45      0.55       105\n",
      "            Mencía       0.88      0.68      0.76       146\n",
      "            Merlot       0.85      0.64      0.73      4801\n",
      "        Monastrell       0.66      0.66      0.66       148\n",
      "     Montepulciano       0.93      0.88      0.90       272\n",
      "          Moscatel       0.62      0.57      0.60        35\n",
      "           Moscato       0.91      0.82      0.86       378\n",
      "          Muscadet       0.02      0.50      0.04         2\n",
      "       Muskateller       0.16      0.75      0.26         4\n",
      "          Nebbiolo       0.83      0.92      0.87      1414\n",
      " Nerello Mascalese       0.72      0.62      0.67        71\n",
      "      Petit Verdot       0.89      0.43      0.58       196\n",
      "      Petite Sirah       0.86      0.64      0.74       887\n",
      "           Picpoul       0.15      0.40      0.22         5\n",
      "      Pinot Grigio       0.90      0.65      0.75      1258\n",
      "        Pinot Gris       0.91      0.56      0.69      1252\n",
      "        Pinot Noir       0.78      0.93      0.85     13246\n",
      "          Pinotage       0.85      0.79      0.82       193\n",
      "              Port       0.83      0.81      0.82       743\n",
      "          Prosecco       0.92      0.89      0.91       515\n",
      "          Riesling       0.87      0.88      0.88      5029\n",
      "              Rosé       0.78      0.76      0.77      2416\n",
      "         Roussanne       0.79      0.43      0.56       182\n",
      "        Sagrantino       0.90      0.87      0.88        79\n",
      "        Sangiovese       0.87      0.75      0.81      2809\n",
      "   Sauvignon Blanc       0.81      0.85      0.83      5970\n",
      "           Schiava       0.18      0.57      0.28         7\n",
      "            Sherry       0.91      0.85      0.88        99\n",
      "            Shiraz       0.91      0.78      0.84      1841\n",
      "             Syrah       0.85      0.73      0.78      5492\n",
      "          Sémillon       0.88      0.39      0.54       214\n",
      "            Tannat       0.89      0.72      0.80        95\n",
      "       Tempranillo       0.80      0.70      0.75      2439\n",
      "         Torrontés       0.88      0.73      0.80       363\n",
      "  Touriga Nacional       0.69      0.74      0.71       155\n",
      "        Verdicchio       0.68      0.64      0.66        47\n",
      "        Vermentino       0.91      0.73      0.81       190\n",
      "          Viognier       0.85      0.62      0.72      1227\n",
      "         Zinfandel       0.86      0.82      0.84      3792\n",
      "          Zweigelt       0.89      0.78      0.83       199\n",
      "\n",
      "          accuracy                           0.81     93557\n",
      "         macro avg       0.77      0.68      0.70     93557\n",
      "      weighted avg       0.82      0.81      0.81     93557\n",
      "\n"
     ]
    }
   ],
   "source": [
    "print(metrics.classification_report(data['label'], predicted))"
   ]
  },
  {
   "cell_type": "code",
   "execution_count": 21,
   "metadata": {},
   "outputs": [
    {
     "data": {
      "text/plain": [
       "array([[ 318,    0,    0, ...,    1,    0,    0],\n",
       "       [   0,  802,    0, ...,    1,   11,    0],\n",
       "       [   0,    0,  134, ...,    0,    0,    1],\n",
       "       ...,\n",
       "       [   0,    0,    0, ...,  765,    4,    0],\n",
       "       [   0,    9,    0, ...,    0, 3106,    0],\n",
       "       [   0,    0,    0, ...,    0,    0,  155]], dtype=int64)"
      ]
     },
     "execution_count": 21,
     "metadata": {},
     "output_type": "execute_result"
    }
   ],
   "source": [
    "metrics.confusion_matrix(data['label'], predicted)"
   ]
  },
  {
   "cell_type": "code",
   "execution_count": 22,
   "metadata": {},
   "outputs": [
    {
     "data": {
      "text/plain": [
       "<sklearn.metrics._plot.confusion_matrix.ConfusionMatrixDisplay at 0x2cdbaf859a0>"
      ]
     },
     "execution_count": 22,
     "metadata": {},
     "output_type": "execute_result"
    },
    {
     "data": {
      "image/png": "[encoded data removed]",
      "text/plain": [
       "<Figure size 432x288 with 2 Axes>"
      ]
     },
     "metadata": {
      "needs_background": "light"
     },
     "output_type": "display_data"
    }
   ],
   "source": [
    "plot_confusion_matrix(text_clf, X_test, y_test)  "
   ]
  },
  {
   "cell_type": "markdown",
   "metadata": {},
   "source": [
    "#### Parameter tuning using grid search"
   ]
  },
  {
   "cell_type": "markdown",
   "metadata": {},
   "source": [
    "We’ve already encountered some parameters such as use_idf in the TfidfTransformer. Classifiers tend to have many parameters as well; e.g., MultinomialNB includes a smoothing parameter alpha and SGDClassifier has a penalty parameter alpha and configurable loss and penalty terms in the objective function (see the module documentation, or use the Python help function to get a description of these).\n",
    "\n",
    "Instead of tweaking the parameters of the various components of the chain, it is possible to run an exhaustive search of the best parameters on a grid of possible values. We try out all classifiers on either words or bigrams, with or without idf, and with a penalty parameter of either 0.01 or 0.001 for the linear SVM:"
   ]
  },
  {
   "cell_type": "code",
   "execution_count": 23,
   "metadata": {},
   "outputs": [],
   "source": [
    "# parameter tuning of the SGDClassifier()\n",
    "# note: sklearn.model_selection import GridSearchCV  was imported with dependencies\n",
    "# note below (1e-2, 1e-3) is the same as 0.01 or 0.001\n",
    "parameters = {\n",
    "    'vect__ngram_range': [(1,1), (1,2)],\n",
    "    'tfidf__use_idf': (True, False),\n",
    "    'clf__alpha': (1e-2, 1e-3),\n",
    "}"
   ]
  },
  {
   "cell_type": "markdown",
   "metadata": {},
   "source": [
    "Obviously, such an exhaustive search can be expensive. If we have multiple CPU cores at our disposal, we can tell the grid searcher to try these eight parameter combinations in parallel with the n_jobs parameter. If we give this parameter a value of -1, grid search will detect how many cores are installed and use them all:"
   ]
  },
  {
   "cell_type": "code",
   "execution_count": 24,
   "metadata": {},
   "outputs": [],
   "source": [
    "gs_clf = GridSearchCV(text_clf, parameters, cv=5, n_jobs=-1)"
   ]
  },
  {
   "cell_type": "code",
   "execution_count": null,
   "metadata": {},
   "outputs": [
    {
     "name": "stderr",
     "output_type": "stream",
     "text": [
      "C:\\Users\\jamie\\anaconda3\\lib\\site-packages\\sklearn\\model_selection\\_split.py:666: UserWarning: The least populated class in y has only 2 members, which is less than n_splits=5.\n",
      "  warnings.warn((\"The least populated class in y has only %d\"\n"
     ]
    }
   ],
   "source": [
    "gs_clf = gs_clf.fit(data['text'], data['label'])"
   ]
  },
  {
   "cell_type": "markdown",
   "metadata": {},
   "source": [
    "The object’s best_score_ and best_params_ attributes store the best mean score and the parameters setting corresponding to that score:"
   ]
  },
  {
   "cell_type": "code",
   "execution_count": null,
   "metadata": {},
   "outputs": [],
   "source": [
    "gs_clf.best_score_"
   ]
  },
  {
   "cell_type": "code",
   "execution_count": null,
   "metadata": {},
   "outputs": [],
   "source": [
    "for param_name in sorted(parameters.keys()):\n",
    "    print(\"%s: %r\" % (param_name, gs_clf.best_params_[param_name]))"
   ]
  },
  {
   "cell_type": "code",
   "execution_count": null,
   "metadata": {},
   "outputs": [],
   "source": [
    "# A more detailed summary of the search is available at gs_clf.cv_results_.\n",
    "# gs_clf.cv_results_"
   ]
  },
  {
   "cell_type": "markdown",
   "metadata": {},
   "source": [
    "Using parameter tuning for the parameters above did not improve over the default parameters\n",
    "93.88 vs. 96.6 for 96.6% accuracy using the SVM with default parameters\n",
    "TODO: confirm default parameters are valid"
   ]
  },
  {
   "cell_type": "markdown",
   "metadata": {},
   "source": [
    "#### Next Step would be to examine performance of using a label of the nine wine_styles\n",
    "Note sklearn how to states:\n",
    "if you have multiple labels per document, e.g categories, have a look at the Multiclass and multilabel section.\n",
    "\n",
    "https://scikit-learn.org/stable/modules/multiclass.html#multiclass"
   ]
  },
  {
   "cell_type": "markdown",
   "metadata": {},
   "source": [
    "#### Review article on towards data science on multi-class-text-classification\n",
    "https://towardsdatascience.com/multi-class-text-classification-with-scikit-learn-12f1e60e0a9f"
   ]
  },
  {
   "cell_type": "code",
   "execution_count": null,
   "metadata": {},
   "outputs": [],
   "source": []
  }
 ],
 "metadata": {
  "kernelspec": {
   "display_name": "Python 3",
   "language": "python",
   "name": "python3"
  },
  "language_info": {
   "codemirror_mode": {
    "name": "ipython",
    "version": 3
   },
   "file_extension": ".py",
   "mimetype": "text/x-python",
   "name": "python",
   "nbconvert_exporter": "python",
   "pygments_lexer": "ipython3",
   "version": "3.8.3"
  }
 },
 "nbformat": 4,
 "nbformat_minor": 4
}
